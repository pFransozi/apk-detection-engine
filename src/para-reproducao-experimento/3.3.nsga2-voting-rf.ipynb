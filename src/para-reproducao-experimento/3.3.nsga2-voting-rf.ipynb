{
 "cells": [
  {
   "cell_type": "markdown",
   "metadata": {},
   "source": [
    "### Apresentação"
   ]
  },
  {
   "cell_type": "markdown",
   "metadata": {},
   "source": [
    "Este arquivo faz a classificação de malware utilizando *multi-view* e seleção de características multi-objetivo. O resultado final deste *notebook* mostra os resultados utilizados no artigo."
   ]
  },
  {
   "cell_type": "markdown",
   "metadata": {},
   "source": [
    "### Inicialização"
   ]
  },
  {
   "cell_type": "markdown",
   "metadata": {},
   "source": [
    "Inicializa todas as bibliotecas utilizadas neste notebook."
   ]
  },
  {
   "cell_type": "code",
   "execution_count": 9,
   "metadata": {},
   "outputs": [],
   "source": [
    "import matplotlib.pyplot as plt\n",
    "from matplotlib.ticker import StrMethodFormatter\n",
    "\n",
    "import numpy as np\n",
    "import pickle\n",
    "from time import time\n",
    "import os\n",
    "import sys\n",
    "\n",
    "from sklearn.metrics import (f1_score)\n",
    "from sklearn.ensemble import RandomForestClassifier\n",
    "from pymoo.algorithms.moo.nsga2 import NSGA2\n",
    "from pymoo.core.problem import ElementwiseProblem\n",
    "from pymoo.optimize import minimize\n",
    "from pymoo.operators.sampling.rnd import FloatRandomSampling"
   ]
  },
  {
   "cell_type": "code",
   "execution_count": 10,
   "metadata": {},
   "outputs": [],
   "source": [
    "def LoadFeaturesClassApicallsPCA():\n",
    "    return (np.load(open(\"../../npy/apicalls-x-pca-ordered.npy\",\"rb\"))\n",
    "            , np.load(open(\"../../npy/apicalls-y-full-ordered.npy\",\"rb\")))\n",
    "\n",
    "def LoadFeaturesClassOpcodesPCA():\n",
    "    return (np.load(open(\"../../npy/opcodes-x-pca-ordered.npy\",\"rb\"))\n",
    "            , np.load(open(\"../../npy/opcodes-y-full-ordered.npy\",\"rb\")))\n",
    "\n",
    "def LoadFeaturesClassPermsPCA():\n",
    "    return (np.load(open(\"../../npy/perm-x-pca-ordered.npy\",\"rb\"))\n",
    "            , np.load(open(\"../../npy/perm-y-full-ordered.npy\",\"rb\")))"
   ]
  },
  {
   "cell_type": "markdown",
   "metadata": {},
   "source": [
    "definição do problema utilizado pelo NSGA2. O objetivo do problema é reduzir o tempo de inferência do classificador e aumentar a acurácia, selecionando a combinação ideal de características para atingir esse objeto."
   ]
  },
  {
   "cell_type": "code",
   "execution_count": 11,
   "metadata": {},
   "outputs": [],
   "source": [
    "def Minimize(problem):\n",
    "\n",
    "    # pop_size=100 e 'n_gen'= 100. Isso define que o algoritmo fornecerá variações das variáveis por 100 gerações, e cada geração com 100 populações.\n",
    "    return minimize(problem,\n",
    "               NSGA2(pop_size=100, sampling=FloatRandomSampling()),\n",
    "               seed=42,\n",
    "               save_history=True,\n",
    "               verbose=True,\n",
    "               termination=('n_gen', 100))\n",
    "\n",
    "class MyProblem(ElementwiseProblem):\n",
    "\n",
    "\n",
    "    def IsToDeleteFeature(self,feature_value):\n",
    "        return feature_value < 0.5\n",
    "    \n",
    "    def GetPredictedClassification(self, features, y):\n",
    "\n",
    "        x_train, x_test, y_train, y_test = train_test_split(features\n",
    "                                                            , y\n",
    "                                                            , train_size=0.7\n",
    "                                                            , random_state=42)\n",
    "        \n",
    "        model = RandomForestClassifier(n_estimators=100, n_jobs=-1, random_state=42)\n",
    "        model.fit(X=x_train, y=y_train)\n",
    "\n",
    "        t0 = time()\n",
    "        y_test_predict = model.predict(x_test)\n",
    "        t1 = (time() - t0)\n",
    "\n",
    "        return y_test_predict,y_test, t1\n",
    "\n",
    "    def EvaluateModelErrorTime(self, features_apicalls_tmp, features_opcodes_tmp, features_perms_tmp, y):\n",
    "\n",
    "        y_voting = []\n",
    "        y_test_predict_apicalls, y_test_true, t1_apicalls = self.GetPredictedClassification(features_apicalls_tmp, y)\n",
    "        y_test_predict_opcodes, y_test_true, t1_opcodes = self.GetPredictedClassification(features_opcodes_tmp, y)\n",
    "        y_test_predict_perms, y_test_true, t1_perms = self.GetPredictedClassification(features_perms_tmp, y)\n",
    "\n",
    "        # algoritmo de votação por voto majoritário.\n",
    "        # a partir de cada classificação de cada view, gera-se um novo vetor de predição baseado na maioria.\n",
    "        # por exemplo:\n",
    "        # Se as views apicalls, opcodes, e permissões inferirem um malware, o voto será malware;\n",
    "        # Se duas das views inferirem um malware, o voto será malware;\n",
    "        # Se apenas uma view inferir um malware, o voto será goodware;\n",
    "        for index, _ in enumerate(y_test_predict_apicalls):\n",
    "            total_voting = y_test_predict_apicalls[index] + y_test_predict_opcodes[index] + y_test_predict_perms[index]\n",
    "            y_voting.append(0 if total_voting < 2 else 1)\n",
    "\n",
    "\n",
    "        f1_test = f1_score(y_true=y_test_true, y_pred=y_voting)\n",
    "\n",
    "        return (1 - f1_test, t1_apicalls + t1_opcodes + t1_perms) #+ t1_voting\n",
    "\n",
    "    def AdjustFeatures(self, x, features):\n",
    "        for i in range(len(x) -1, 0 , -1):\n",
    "            if self.IsToDeleteFeature(x[i]):\n",
    "                features = np.delete(features, i, 1)\n",
    "\n",
    "        return features\n",
    "\n",
    "\n",
    "    def __init__(self, *args):\n",
    "\n",
    "        self.features_apicalls = args[0]\n",
    "        self.features_opcodes = args[1]\n",
    "        self.features_perms = args[2]\n",
    "        self.y = args[3]\n",
    "\n",
    "        # define que o problema tem dois objetivos e utiliza uma matriz de 300 variáveis.\n",
    "        # em cada população uma nova variação da matriz é fornecida.\n",
    "        super().__init__(n_var=300,\n",
    "                         n_obj=2,\n",
    "                         xl=np.zeros(300),\n",
    "                         xu=np.ones(300))\n",
    "        \n",
    "    # x = matriz com as variáveis definidas pelo algoritmo NSGA2.\n",
    "    # out = retorna o resultado dos objetivos [acurácia e tempo].\n",
    "    def _evaluate(self, x, out, *args, **kwargs):\n",
    "\n",
    "        features_apicalls_tmp = self.features_apicalls\n",
    "        features_opcodes_tmp = self.features_opcodes\n",
    "        features_perms_tmp = self.features_perms\n",
    "\n",
    "        # a matriz fornecida serve de referência para manter ou excluir uma feature da matriz de características para cada view.\n",
    "        # x[0:100] - referência para a view apicalls;\n",
    "        # x[100:200] - referência para a view opcodes;\n",
    "        # x[200:300] - referência para a view permissões;\n",
    "        # Por exemplo: \n",
    "        # se x[10] < 0.5, então a feature 9 da view api calls será removida;\n",
    "        # se x[150] < 0.5, então a feature 49 da view opcode será removida;\n",
    "        # se x[300] < 0.5, então a feature 99 da view permissões será removida;\n",
    "        # Sempre que o valor de x[] for >= 0.5, a feature será mantida.\n",
    "        features_apicalls_tmp = self.AdjustFeatures(x[0:100], features_apicalls_tmp)\n",
    "        features_opcodes_tmp = self.AdjustFeatures( x[100:200], features_opcodes_tmp)\n",
    "        features_perms_tmp = self.AdjustFeatures(x[200:300], features_perms_tmp)\n",
    "\n",
    "        # faz a classificação utilizando as views com seleção de features.\n",
    "        f1, f2 = self.EvaluateModelErrorTime(features_apicalls_tmp, features_opcodes_tmp, features_perms_tmp, self.y)\n",
    "\n",
    "        # f1 = acurácia\n",
    "        # f2 = tempo de inferência\n",
    "        out[\"F\"] = [f1, f2]"
   ]
  },
  {
   "cell_type": "code",
   "execution_count": 12,
   "metadata": {},
   "outputs": [],
   "source": [
    "features_apicalls, y_api = LoadFeaturesClassApicallsPCA()\n",
    "features_opcodes, y_op = LoadFeaturesClassOpcodesPCA()\n",
    "features_perm, y_perm = LoadFeaturesClassPermsPCA()"
   ]
  },
  {
   "cell_type": "markdown",
   "metadata": {},
   "source": [
    "### Processa NSGA2"
   ]
  },
  {
   "cell_type": "code",
   "execution_count": 13,
   "metadata": {},
   "outputs": [],
   "source": [
    "problem = MyProblem(features_apicalls, features_opcodes, features_perm, y_op)"
   ]
  },
  {
   "cell_type": "code",
   "execution_count": 14,
   "metadata": {},
   "outputs": [],
   "source": [
    "# em virtude da inviabilidade de processar o algoritmo NSGA2 por conta do tempo, a chamada do método Minimize() está comentada.\n",
    "# para viabilizar essa etapa, utiliza-se um dump do resultado do Minimize()\n",
    "\n",
    "# res = Minimize(problem)\n",
    "#res = pickle.load(open(\"../../dumps/nsga2-maj-vot-rf.pkl\", \"rb\"))\n",
    "\n",
    "file_path = \"../../dumps/nsga2-maj-vot-rf.pkl\"\n",
    "\n",
    "if os.path.exists(file_path):\n",
    "    res = pickle.load(open(file_path, \"rb\"))\n",
    "else:\n",
    "    print(f\"O arquivo {file_path} não existe no diretório esperado. \\nLeia o arquivo README, seção Download de arquivos.\")\n",
    "    sys.exit(\"Interrompendo a execução do notebook.\")"
   ]
  },
  {
   "cell_type": "markdown",
   "metadata": {},
   "source": [
    "### Resultado"
   ]
  },
  {
   "cell_type": "code",
   "execution_count": 15,
   "metadata": {},
   "outputs": [],
   "source": [
    "# ordena o resultado pela acurácia.\n",
    "res_sorted = res.F[res.F[:, 1].argsort()]"
   ]
  },
  {
   "cell_type": "code",
   "execution_count": 16,
   "metadata": {},
   "outputs": [
    {
     "data": {
      "image/png": "[encoded data removed]",
      "text/plain": [
       "<Figure size 420x420 with 1 Axes>"
      ]
     },
     "metadata": {},
     "output_type": "display_data"
    }
   ],
   "source": [
    "plt.figure(figsize=(4.2, 4.2))\n",
    "\n",
    "plt.plot(res_sorted[:, 1], res_sorted[:, 0], color='orange', linewidth=2)\n",
    "plt.xticks(rotation=45, ha='right')\n",
    "plt.autoscale(tight=True)\n",
    "\n",
    "plt.xlabel(\"Tempo (s)\")\n",
    "plt.ylabel(\"Taxa de Erro\", labelpad=1)\n",
    "plt.tick_params(axis='both', which='major', pad=0) \n",
    "\n",
    "plt.gca().yaxis.set_major_formatter(StrMethodFormatter('{x:,.3f}'))\n",
    "plt.gca().xaxis.set_major_formatter(StrMethodFormatter('{x:,.3f}'))\n",
    "\n",
    "plt.margins(x=0, y=0)\n",
    "plt.tight_layout()\n",
    "plt.show()"
   ]
  }
 ],
 "metadata": {
  "kernelspec": {
   "display_name": ".venv",
   "language": "python",
   "name": "python3"
  },
  "language_info": {
   "codemirror_mode": {
    "name": "ipython",
    "version": 3
   },
   "file_extension": ".py",
   "mimetype": "text/x-python",
   "name": "python",
   "nbconvert_exporter": "python",
   "pygments_lexer": "ipython3",
   "version": "3.10.12"
  }
 },
 "nbformat": 4,
 "nbformat_minor": 2
}
