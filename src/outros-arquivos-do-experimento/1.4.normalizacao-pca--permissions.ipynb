{
 "cells": [
  {
   "cell_type": "markdown",
   "metadata": {},
   "source": [
    "### Apresentação"
   ]
  },
  {
   "cell_type": "markdown",
   "metadata": {},
   "source": [
    "* Carrega o CSV\n",
    "* Deleta colunas não necessárias\n",
    "* Extrai coluna class e a exclui\n",
    "* O dataframe da coluna class (y) e o dataframe das características (x) são transformados para to_numpy;\n",
    "* Aplica PCA na matrix com as características\n"
   ]
  },
  {
   "cell_type": "code",
   "execution_count": 1,
   "metadata": {},
   "outputs": [],
   "source": [
    "import numpy as np\n",
    "import pandas as pd\n",
    "import modin.pandas as mpd\n",
    "import os\n",
    "import ray\n",
    "from sklearn.decomposition import PCA"
   ]
  },
  {
   "cell_type": "code",
   "execution_count": null,
   "metadata": {},
   "outputs": [],
   "source": [
    "os.environ[\"MODIN_ENGINE\"] = \"ray\"\n",
    "\n",
    "runtime_env = {\n",
    "    'env_vars': {\n",
    "        \"RAY_memory_monitor_refresh_ms\": \"100\",\n",
    "        \"RAY_memory_usage_threshold\": \"0.85\"\n",
    "     }\n",
    "}\n",
    "ray.init(runtime_env=runtime_env)"
   ]
  },
  {
   "cell_type": "code",
   "execution_count": 10,
   "metadata": {},
   "outputs": [],
   "source": [
    "perm = mpd.read_csv(\"../../csv/PERMISSIONS.csv\")"
   ]
  },
  {
   "cell_type": "code",
   "execution_count": 13,
   "metadata": {},
   "outputs": [],
   "source": [
    "perm = perm.fillna(0)\n",
    "perm = perm.drop([\"Unnamed: 0.1\", \"Unnamed: 0\"], axis=1)\n",
    "perm = perm.drop('file_name', axis=1)"
   ]
  },
  {
   "cell_type": "code",
   "execution_count": 19,
   "metadata": {},
   "outputs": [],
   "source": [
    "y = np.array(perm[\"class\"])\n",
    "perm = perm.drop('class', axis=1)\n",
    "x = perm.to_numpy(na_value=0)"
   ]
  },
  {
   "cell_type": "code",
   "execution_count": 7,
   "metadata": {},
   "outputs": [],
   "source": [
    "\n",
    "pca = PCA(n_components=100, random_state=42)\n",
    "x_pca = pca.fit_transform(x)"
   ]
  },
  {
   "cell_type": "code",
   "execution_count": 10,
   "metadata": {},
   "outputs": [],
   "source": [
    "np.save(open(\"../../arrays/perm-x-pca-ordered.npy\", \"wb\"), x_pca)\n",
    "np.save(open(\"../../arrays/perm-y-full-ordered.npy\", \"wb\"), y)"
   ]
  }
 ],
 "metadata": {
  "kernelspec": {
   "display_name": ".venv",
   "language": "python",
   "name": "python3"
  },
  "language_info": {
   "codemirror_mode": {
    "name": "ipython",
    "version": 3
   },
   "file_extension": ".py",
   "mimetype": "text/x-python",
   "name": "python",
   "nbconvert_exporter": "python",
   "pygments_lexer": "ipython3",
   "version": "3.10.12"
  }
 },
 "nbformat": 4,
 "nbformat_minor": 2
}
