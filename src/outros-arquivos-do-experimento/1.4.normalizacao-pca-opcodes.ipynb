{
 "cells": [
  {
   "cell_type": "markdown",
   "metadata": {},
   "source": [
    "### Apresentação"
   ]
  },
  {
   "cell_type": "markdown",
   "metadata": {},
   "source": [
    "* Carrega o CSV\n",
    "* Deleta colunas não necessárias\n",
    "* Extrai coluna class e a exclui\n",
    "* O dataframe da coluna class (y) e o dataframe das características (x) são transformados para to_numpy;\n",
    "* Aplica PCA na matrix com as características\n"
   ]
  },
  {
   "cell_type": "code",
   "execution_count": 1,
   "metadata": {},
   "outputs": [],
   "source": [
    "import numpy as np\n",
    "import pandas as pd\n",
    "import modin as mpd\n",
    "from sklearn.decomposition import PCA"
   ]
  },
  {
   "cell_type": "code",
   "execution_count": 4,
   "metadata": {},
   "outputs": [],
   "source": [
    "opcodes = pd.read_csv(\"../../csv/OPCODES.csv\")"
   ]
  },
  {
   "cell_type": "code",
   "execution_count": 9,
   "metadata": {},
   "outputs": [],
   "source": [
    "opcodes = opcodes.fillna(0)\n",
    "opcodes = opcodes.drop([\"Unnamed: 0.1\", \"Unnamed: 0\"], axis=1)\n",
    "opcodes = opcodes.drop('file_name', axis=1)"
   ]
  },
  {
   "cell_type": "code",
   "execution_count": 15,
   "metadata": {},
   "outputs": [],
   "source": [
    "y = np.array(opcodes[\"class\"])\n",
    "opcodes = opcodes.drop('class', axis=1)\n",
    "x = opcodes.to_numpy(na_value=0)"
   ]
  },
  {
   "cell_type": "code",
   "execution_count": 4,
   "metadata": {},
   "outputs": [],
   "source": [
    "pca = PCA(n_components=100, random_state=42)\n",
    "x_pca = pca.fit_transform(x)"
   ]
  },
  {
   "cell_type": "code",
   "execution_count": 15,
   "metadata": {},
   "outputs": [],
   "source": [
    "np.save(open(\"../../arrays/opcodes-x-pca-ordered.npy\", \"wb\"), x_pca)\n",
    "np.save(open(\"../../arrays/opcodes-y-full-ordered.npy\", \"wb\"), y)"
   ]
  }
 ],
 "metadata": {
  "kernelspec": {
   "display_name": ".venv",
   "language": "python",
   "name": "python3"
  },
  "language_info": {
   "codemirror_mode": {
    "name": "ipython",
    "version": 3
   },
   "file_extension": ".py",
   "mimetype": "text/x-python",
   "name": "python",
   "nbconvert_exporter": "python",
   "pygments_lexer": "ipython3",
   "version": "3.10.12"
  }
 },
 "nbformat": 4,
 "nbformat_minor": 2
}
